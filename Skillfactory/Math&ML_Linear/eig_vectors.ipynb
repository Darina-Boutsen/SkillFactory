{
 "cells": [
  {
   "cell_type": "code",
   "execution_count": 1,
   "metadata": {},
   "outputs": [],
   "source": [
    "import numpy as np"
   ]
  },
  {
   "cell_type": "code",
   "execution_count": 2,
   "metadata": {},
   "outputs": [
    {
     "name": "stdout",
     "output_type": "stream",
     "text": [
      "Собственные числа: \n",
      " [4. 1.]\n",
      "Собственные векторы: \n",
      " [[ 0.89442719 -0.70710678]\n",
      " [ 0.4472136   0.70710678]]\n"
     ]
    }
   ],
   "source": [
    "# создаем матрицу А\n",
    "A = np.array([\n",
    "    [3, 1],\n",
    "    [2, 2]\n",
    "]).T\n",
    "# вычисляем собственные числа и собственные векторы\n",
    "eig_values, eig_vectors = np.linalg.eig(A)\n",
    "print('Собственные числа: \\n', eig_values)\n",
    "print('Собственные векторы: \\n', eig_vectors)"
   ]
  },
  {
   "cell_type": "code",
   "execution_count": 3,
   "metadata": {},
   "outputs": [
    {
     "name": "stdout",
     "output_type": "stream",
     "text": [
      "Собственные числа: \n",
      " [13.59373746  5.03209301  1.37416954]\n",
      "Собственные векторы: \n",
      " [[ 0.45145779  0.83661458  0.10258363]\n",
      " [ 0.62348353  0.44632316 -0.77299039]\n",
      " [ 0.63832135  0.31760303  0.62606905]]\n"
     ]
    }
   ],
   "source": [
    "# создаем матрицу А\n",
    "A = np.array([\n",
    "    [1, -5, -6],\n",
    "    [4, 8, 7],\n",
    "    [5, 9, 11]\n",
    "]).T\n",
    "# вычисляем собственные числа и собственные векторы\n",
    "eig_values, eig_vectors = np.linalg.eig(A)\n",
    "print('Собственные числа: \\n', eig_values)\n",
    "print('Собственные векторы: \\n', eig_vectors)"
   ]
  },
  {
   "cell_type": "code",
   "execution_count": 4,
   "metadata": {},
   "outputs": [
    {
     "name": "stdout",
     "output_type": "stream",
     "text": [
      "Собственные числа: \n",
      " [ 2.54687092e+01  1.53129080e+00  1.63252001e-14 -1.00000000e+00]\n",
      "Собственные векторы: \n",
      " [[-0.33176532 -0.6739195   0.5479715  -0.5312532 ]\n",
      " [-0.75622544 -0.67703635  0.72006173 -0.64930947]\n",
      " [-0.42446012 -0.00311685 -0.00452869 -0.11805627]\n",
      " [-0.37133334  0.2957103  -0.42569687  0.5312532 ]]\n"
     ]
    }
   ],
   "source": [
    "# Видно, что матрица A будет заведомо вырожденной, так как её третья строка — это результат вычитания первой строки \n",
    "# из второй строки. Посмотрим, как поведут себя собственные числа:\n",
    "\n",
    "# создаем матрицу А\n",
    "A = np.array([\n",
    "    [1, -4, -5, -6],\n",
    "    [4, 12, 8, 7],\n",
    "    [5, 14, 9, 11],    \n",
    "    [8, 15, 7, 4]\n",
    "]).T\n",
    "# вычисляем собственные числа и собственные векторы\n",
    "eig_values, eig_vectors = np.linalg.eig(A)\n",
    "print('Собственные числа: \\n', eig_values)\n",
    "print('Собственные векторы: \\n', eig_vectors)"
   ]
  },
  {
   "cell_type": "code",
   "execution_count": 5,
   "metadata": {},
   "outputs": [
    {
     "name": "stdout",
     "output_type": "stream",
     "text": [
      "Собственные числа: \n",
      " [0.+1.j 0.-1.j]\n",
      "Собственные векторы: \n",
      " [[0.70710678+0.j         0.70710678-0.j        ]\n",
      " [0.        -0.70710678j 0.        +0.70710678j]]\n"
     ]
    }
   ],
   "source": [
    "# Из теоретической части мы знаем, что у данной матрицы собственных чисел нет. Но давайте посмотрим, что по этому \n",
    "# поводу думает Python:\n",
    "\n",
    "# создаем матрицу А\n",
    "A = np.array([\n",
    "    [0, 1],\n",
    "    [-1, 0],\n",
    "]).T\n",
    "# вычисляем собственные числа и собственные векторы\n",
    "eig_values, eig_vectors = np.linalg.eig(A)\n",
    "print('Собственные числа: \\n', eig_values)\n",
    "print('Собственные векторы: \\n', eig_vectors)"
   ]
  },
  {
   "cell_type": "code",
   "execution_count": 6,
   "metadata": {},
   "outputs": [
    {
     "ename": "ImportError",
     "evalue": "\n`load_boston` has been removed from scikit-learn since version 1.2.\n\nThe Boston housing prices dataset has an ethical problem: as\ninvestigated in [1], the authors of this dataset engineered a\nnon-invertible variable \"B\" assuming that racial self-segregation had a\npositive impact on house prices [2]. Furthermore the goal of the\nresearch that led to the creation of this dataset was to study the\nimpact of air quality but it did not give adequate demonstration of the\nvalidity of this assumption.\n\nThe scikit-learn maintainers therefore strongly discourage the use of\nthis dataset unless the purpose of the code is to study and educate\nabout ethical issues in data science and machine learning.\n\nIn this special case, you can fetch the dataset from the original\nsource::\n\n    import pandas as pd\n    import numpy as np\n\n    data_url = \"http://lib.stat.cmu.edu/datasets/boston\"\n    raw_df = pd.read_csv(data_url, sep=\"\\s+\", skiprows=22, header=None)\n    data = np.hstack([raw_df.values[::2, :], raw_df.values[1::2, :2]])\n    target = raw_df.values[1::2, 2]\n\nAlternative datasets include the California housing dataset and the\nAmes housing dataset. You can load the datasets as follows::\n\n    from sklearn.datasets import fetch_california_housing\n    housing = fetch_california_housing()\n\nfor the California housing dataset and::\n\n    from sklearn.datasets import fetch_openml\n    housing = fetch_openml(name=\"house_prices\", as_frame=True)\n\nfor the Ames housing dataset.\n\n[1] M Carlisle.\n\"Racist data destruction?\"\n<https://medium.com/@docintangible/racist-data-destruction-113e3eff54a8>\n\n[2] Harrison Jr, David, and Daniel L. Rubinfeld.\n\"Hedonic housing prices and the demand for clean air.\"\nJournal of environmental economics and management 5.1 (1978): 81-102.\n<https://www.researchgate.net/publication/4974606_Hedonic_housing_prices_and_the_demand_for_clean_air>\n",
     "output_type": "error",
     "traceback": [
      "\u001b[1;31m---------------------------------------------------------------------------\u001b[0m",
      "\u001b[1;31mImportError\u001b[0m                               Traceback (most recent call last)",
      "Cell \u001b[1;32mIn[6], line 13\u001b[0m\n\u001b[0;32m     10\u001b[0m warnings\u001b[38;5;241m.\u001b[39msimplefilter(action\u001b[38;5;241m=\u001b[39m\u001b[38;5;124m'\u001b[39m\u001b[38;5;124mignore\u001b[39m\u001b[38;5;124m'\u001b[39m, category\u001b[38;5;241m=\u001b[39m\u001b[38;5;167;01mFutureWarning\u001b[39;00m)\n\u001b[0;32m     12\u001b[0m \u001b[38;5;66;03m# загружаем датасет\u001b[39;00m\n\u001b[1;32m---> 13\u001b[0m boston \u001b[38;5;241m=\u001b[39m \u001b[43mdatasets\u001b[49m\u001b[38;5;241;43m.\u001b[39;49m\u001b[43mload_boston\u001b[49m()\n\u001b[0;32m     14\u001b[0m \u001b[38;5;66;03m#print(boston['DESCR'])\u001b[39;00m\n\u001b[0;32m     15\u001b[0m boston_data \u001b[38;5;241m=\u001b[39m pd\u001b[38;5;241m.\u001b[39mDataFrame(\n\u001b[0;32m     16\u001b[0m     data\u001b[38;5;241m=\u001b[39mboston\u001b[38;5;241m.\u001b[39mdata, \u001b[38;5;66;03m#данные\u001b[39;00m\n\u001b[0;32m     17\u001b[0m     columns\u001b[38;5;241m=\u001b[39mboston\u001b[38;5;241m.\u001b[39mfeature_names \u001b[38;5;66;03m#наименования столбцов\u001b[39;00m\n\u001b[0;32m     18\u001b[0m )\n",
      "File \u001b[1;32mc:\\Users\\spbda\\AppData\\Local\\Programs\\Python\\Python311\\Lib\\site-packages\\sklearn\\datasets\\__init__.py:157\u001b[0m, in \u001b[0;36m__getattr__\u001b[1;34m(name)\u001b[0m\n\u001b[0;32m    108\u001b[0m \u001b[38;5;28;01mif\u001b[39;00m name \u001b[38;5;241m==\u001b[39m \u001b[38;5;124m\"\u001b[39m\u001b[38;5;124mload_boston\u001b[39m\u001b[38;5;124m\"\u001b[39m:\n\u001b[0;32m    109\u001b[0m     msg \u001b[38;5;241m=\u001b[39m textwrap\u001b[38;5;241m.\u001b[39mdedent(\u001b[38;5;124m\"\"\"\u001b[39m\n\u001b[0;32m    110\u001b[0m \u001b[38;5;124m        `load_boston` has been removed from scikit-learn since version 1.2.\u001b[39m\n\u001b[0;32m    111\u001b[0m \n\u001b[1;32m   (...)\u001b[0m\n\u001b[0;32m    155\u001b[0m \u001b[38;5;124m        <https://www.researchgate.net/publication/4974606_Hedonic_housing_prices_and_the_demand_for_clean_air>\u001b[39m\n\u001b[0;32m    156\u001b[0m \u001b[38;5;124m        \u001b[39m\u001b[38;5;124m\"\"\"\u001b[39m)\n\u001b[1;32m--> 157\u001b[0m     \u001b[38;5;28;01mraise\u001b[39;00m \u001b[38;5;167;01mImportError\u001b[39;00m(msg)\n\u001b[0;32m    158\u001b[0m \u001b[38;5;28;01mtry\u001b[39;00m:\n\u001b[0;32m    159\u001b[0m     \u001b[38;5;28;01mreturn\u001b[39;00m \u001b[38;5;28mglobals\u001b[39m()[name]\n",
      "\u001b[1;31mImportError\u001b[0m: \n`load_boston` has been removed from scikit-learn since version 1.2.\n\nThe Boston housing prices dataset has an ethical problem: as\ninvestigated in [1], the authors of this dataset engineered a\nnon-invertible variable \"B\" assuming that racial self-segregation had a\npositive impact on house prices [2]. Furthermore the goal of the\nresearch that led to the creation of this dataset was to study the\nimpact of air quality but it did not give adequate demonstration of the\nvalidity of this assumption.\n\nThe scikit-learn maintainers therefore strongly discourage the use of\nthis dataset unless the purpose of the code is to study and educate\nabout ethical issues in data science and machine learning.\n\nIn this special case, you can fetch the dataset from the original\nsource::\n\n    import pandas as pd\n    import numpy as np\n\n    data_url = \"http://lib.stat.cmu.edu/datasets/boston\"\n    raw_df = pd.read_csv(data_url, sep=\"\\s+\", skiprows=22, header=None)\n    data = np.hstack([raw_df.values[::2, :], raw_df.values[1::2, :2]])\n    target = raw_df.values[1::2, 2]\n\nAlternative datasets include the California housing dataset and the\nAmes housing dataset. You can load the datasets as follows::\n\n    from sklearn.datasets import fetch_california_housing\n    housing = fetch_california_housing()\n\nfor the California housing dataset and::\n\n    from sklearn.datasets import fetch_openml\n    housing = fetch_openml(name=\"house_prices\", as_frame=True)\n\nfor the Ames housing dataset.\n\n[1] M Carlisle.\n\"Racist data destruction?\"\n<https://medium.com/@docintangible/racist-data-destruction-113e3eff54a8>\n\n[2] Harrison Jr, David, and Daniel L. Rubinfeld.\n\"Hedonic housing prices and the demand for clean air.\"\nJournal of environmental economics and management 5.1 (1978): 81-102.\n<https://www.researchgate.net/publication/4974606_Hedonic_housing_prices_and_the_demand_for_clean_air>\n"
     ]
    }
   ],
   "source": [
    "# А пока посмотрим на то, как найти спектр корреляционной матрицы на реальной задаче. Возьмём знакомый нам \n",
    "# классический датасет о домах в Бостоне. \n",
    "\n",
    "from sklearn import datasets \n",
    "import pandas as pd\n",
    "\n",
    "import matplotlib.pyplot as plt\n",
    "import seaborn as sns\n",
    "import warnings\n",
    "warnings.simplefilter(action='ignore', category=FutureWarning)\n",
    "\n",
    "# загружаем датасет\n",
    "boston = datasets.load_boston()\n",
    "#print(boston['DESCR'])\n",
    "boston_data = pd.DataFrame(\n",
    "    data=boston.data, #данные\n",
    "    columns=boston.feature_names #наименования столбцов\n",
    ")\n",
    "boston_data['PRICE']=boston.target\n",
    "boston_data.head()"
   ]
  },
  {
   "cell_type": "code",
   "execution_count": null,
   "metadata": {},
   "outputs": [],
   "source": [
    "# Составим матрицу наблюдений, в которую войдут все исходные факторы и вектор целевой переменной: \n",
    "\n",
    "A = boston_data.drop('PRICE', axis=1)\n",
    "y = boston_data[['PRICE']]"
   ]
  },
  {
   "cell_type": "code",
   "execution_count": null,
   "metadata": {},
   "outputs": [],
   "source": [
    "# Затем составим корреляционную матрицу для исходных факторов:\n",
    "\n",
    "C = A.corr()\n",
    "fig = plt.figure(figsize=(10, 5))\n",
    "sns.heatmap(C, annot=True, cmap='coolwarm');"
   ]
  },
  {
   "cell_type": "code",
   "execution_count": null,
   "metadata": {},
   "outputs": [],
   "source": [
    "# А теперь найдём собственные числа полученной корреляционной матрицы:\n",
    "\n",
    "# вычисляем собственные числа и собственные векторы\n",
    "eig_values, eig_vectors = np.linalg.eig(C)\n",
    "print('Собственные числа: \\n', eig_values)\n",
    "#print('Собственные векторы: \\n', eig_vectors)"
   ]
  },
  {
   "cell_type": "code",
   "execution_count": null,
   "metadata": {},
   "outputs": [],
   "source": [
    "# Проверим, что все собственные векторы корреляционной матрицы ортогональны друг другу. Это свойство понадобится нам \n",
    "# в методе главных компонент.\n",
    "# Чтобы это проверить, достаточно найти матрицу Грама , где L — матрица, составленная из собственных факторов. \n",
    "# В результате мы должны будем получить единичную матрицу. \n",
    "# На её главной диагонали должны быть расположены единицы, а внедиагональные элементы — скалярные произведения \n",
    "# собственных векторов — должны быть равны 0. \n",
    "\n",
    "# считаем матрицу Грамма L^T*L:\n",
    "print(np.round(eig_vectors.T @ eig_vectors, 2))"
   ]
  },
  {
   "cell_type": "code",
   "execution_count": 10,
   "metadata": {},
   "outputs": [
    {
     "name": "stdout",
     "output_type": "stream",
     "text": [
      "Собственные числа: \n",
      " [391.  46.  16.]\n",
      "Собственные векторы: \n",
      " [[-0. -1. -1.]\n",
      " [-1.  1. -0.]\n",
      " [-1. -0.  1.]]\n"
     ]
    }
   ],
   "source": [
    "# создаем матрицу А\n",
    "A = np.array([\n",
    "    [1, 9, 4],\n",
    "    [9, 4, 7],\n",
    "    [4, 7, 12]\n",
    "]).T\n",
    "# вычисляем собственные числа и собственные векторы\n",
    "eig_values, eig_vectors = np.linalg.eig(A.T@A)\n",
    "print('Собственные числа: \\n', np.round(eig_values))\n",
    "print('Собственные векторы: \\n', np.round(eig_vectors))"
   ]
  },
  {
   "cell_type": "code",
   "execution_count": 1,
   "metadata": {},
   "outputs": [
    {
     "name": "stdout",
     "output_type": "stream",
     "text": [
      "[-0.24  0.86 -0.29 -0.33]\n"
     ]
    }
   ],
   "source": [
    "# Выберите одну главную компоненту для дальнейшего анализа. Вычислите её значения.\n",
    "import numpy as np\n",
    "x1 = np.array([1, 2, 1, 1]).T\n",
    "x2 = np.array([70, 130, 65, 60]).T\n",
    "\n",
    "C = np.array([[1, 0.9922], [0.9922, 1]])\n",
    "\n",
    "eig_values, eig_vectors = np.linalg.eig(C)\n",
    "\n",
    "x1_norm = (x1 - x1.mean()) / np.linalg.norm(x1)\n",
    "x2_norm = (x2 - x2.mean()) / np.linalg.norm(x2)\n",
    "\n",
    "x_new = x1_norm * eig_vectors[0][0] + x2_norm * eig_vectors[1][0]\n",
    "\n",
    "x_new_norm = (x_new - x_new.mean()) / np.linalg.norm(x_new)\n",
    "\n",
    "print(np.round(x_new_norm, 2))"
   ]
  }
 ],
 "metadata": {
  "kernelspec": {
   "display_name": "Python 3",
   "language": "python",
   "name": "python3"
  },
  "language_info": {
   "codemirror_mode": {
    "name": "ipython",
    "version": 3
   },
   "file_extension": ".py",
   "mimetype": "text/x-python",
   "name": "python",
   "nbconvert_exporter": "python",
   "pygments_lexer": "ipython3",
   "version": "3.11.4"
  }
 },
 "nbformat": 4,
 "nbformat_minor": 2
}
