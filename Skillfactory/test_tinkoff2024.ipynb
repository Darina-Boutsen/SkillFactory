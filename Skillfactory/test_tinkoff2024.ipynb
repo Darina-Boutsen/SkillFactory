{
 "cells": [
  {
   "cell_type": "code",
   "execution_count": 9,
   "metadata": {},
   "outputs": [
    {
     "name": "stdout",
     "output_type": "stream",
     "text": [
      "YES\n",
      "1 2 3 4 5\n"
     ]
    }
   ],
   "source": [
    "\n",
    "\n",
    "data = [\n",
    "    input(),\n",
    "    input()\n",
    "]\n",
    "n = int(data[0])\n",
    "days = data[1].split(' ')\n",
    "days = list(map(int, days))\n",
    "\n",
    "if days[0] == -1:\n",
    "  days[0] = 1\n",
    "\n",
    "if n:\n",
    "    for i in range(1, len(days)):\n",
    "      if days[i] == -1:\n",
    "        days[i] = days[i-1] + 1\n",
    "      elif days[i] <= days[i-1]:\n",
    "        print(\"NO\")\n",
    "    else:\n",
    "        for i in range(1, len(days)):\n",
    "          days[i] -= days[i-1]\n",
    "        print(\"YES\")\n",
    "        print(\" \".join(map(str, range(1, n+1))))"
   ]
  },
  {
   "cell_type": "code",
   "execution_count": null,
   "metadata": {},
   "outputs": [],
   "source": [
    "data = input()\n",
    "def prime_factors(num): i = 2 factors = [] while i <= num: if num % i == 0: factors.append(i) num = num / i else: i += 1 return factors\n",
    "Источник: https://www.easydoit.ru/python/kak-najti-vse-deliteli-chisla-v-python-prostye-i-s-ispolzovaniem-biblioteki/\n"
   ]
  },
  {
   "cell_type": "code",
   "execution_count": 18,
   "metadata": {},
   "outputs": [
    {
     "name": "stdout",
     "output_type": "stream",
     "text": [
      "3\n",
      "[3]\n",
      "4\n",
      "[2, 2]\n",
      "5\n",
      "[5]\n",
      "6\n",
      "[2, 3]\n",
      "2\n"
     ]
    }
   ],
   "source": [
    "data = input()\n",
    "def prime_factors(num): \n",
    "    i = 2 \n",
    "    factors = [] \n",
    "    while i <= num: \n",
    "        if num % i == 0: \n",
    "            factors.append(i) \n",
    "            num = num / i \n",
    "        else: i += 1 \n",
    "    return factors\n",
    "\n",
    "result = 0\n",
    "for num in range(int(data.split(' ')[0]), int(data.split(' ')[1])+1):\n",
    "    print(num)\n",
    "    factors = prime_factors(num)\n",
    "    print(factors)\n",
    "    if len(factors)+2 == 2:\n",
    "        result += 1\n",
    "print(result)"
   ]
  },
  {
   "cell_type": "code",
   "execution_count": 34,
   "metadata": {},
   "outputs": [
    {
     "name": "stdout",
     "output_type": "stream",
     "text": [
      "1\n"
     ]
    }
   ],
   "source": [
    "data = input()\n",
    "\n",
    "def find_divisors(n): \n",
    "    divisors = [] \n",
    "    for i in range(1, n+1): \n",
    "        if n % i == 0: \n",
    "            divisors.append(i) \n",
    "    return divisors\n",
    "\n",
    "def is_prime(x):\n",
    "    for i in range(2, (x//2)+1):\n",
    "        if x % i == 0:\n",
    "            return False\n",
    "    return True\n",
    "\n",
    "result = 0\n",
    "for num in range(int(data.split(' ')[0]), int(data.split(' ')[1])+1):\n",
    "    factors = find_divisors(num)\n",
    "    if len(factors) > 2:\n",
    "        if is_prime(len(factors)) == True:\n",
    "            result += 1\n",
    "print(result)"
   ]
  },
  {
   "cell_type": "code",
   "execution_count": 13,
   "metadata": {},
   "outputs": [
    {
     "name": "stdout",
     "output_type": "stream",
     "text": [
      "1 2 3 4 5 6 8 9 11\n"
     ]
    }
   ],
   "source": [
    "data = input()\n",
    "\n",
    "numbers = set()\n",
    "sets = data.split(',')\n",
    "for s in sets:\n",
    "    if int(len(s)) == 3:\n",
    "        numbers.update(range(int(s[0]), int(s[2])+1))\n",
    "    else:\n",
    "        numbers.add(int(s))\n",
    "print(*numbers)\n"
   ]
  },
  {
   "cell_type": "code",
   "execution_count": null,
   "metadata": {},
   "outputs": [],
   "source": [
    "set_n = []\n",
    "for n in numbers:\n",
    "    if len(n) > 1:\n",
    "        for m in n:\n",
    "            set_n.append(m)\n",
    "    else:\n",
    "        set_n.append(n)\n",
    "set_n"
   ]
  },
  {
   "cell_type": "code",
   "execution_count": 22,
   "metadata": {},
   "outputs": [
    {
     "data": {
      "text/plain": [
       "[[12, 5], [1, 4, 6]]"
      ]
     },
     "execution_count": 22,
     "metadata": {},
     "output_type": "execute_result"
    }
   ],
   "source": [
    "n = input()\n",
    "nums = []\n",
    "for i in range(int(n)):\n",
    "    nums.append(list(input().split(' ')))\n",
    "numbers = []\n",
    "for n in nums:\n",
    "    n = list(map(int, n))\n",
    "    numbers.append(n)\n",
    "\n",
    "    \n",
    "    \n",
    "time0 = 0\n",
    "for i in range(n):\n",
    "    for num in numbers:\n",
    "        time0 = num[0]\n",
    "        if len(num) > 1:\n",
    "            for j in range(1, len(num)):\n",
    "                actual_time = []\n",
    "                numbers[num[j]]"
   ]
  },
  {
   "cell_type": "code",
   "execution_count": 39,
   "metadata": {},
   "outputs": [
    {
     "name": "stdout",
     "output_type": "stream",
     "text": [
      "as\n"
     ]
    }
   ],
   "source": [
    "data = [\n",
    "    input(),\n",
    "    input(),\n",
    "    input()\n",
    "]\n",
    "\n",
    "order = data[0]\n",
    "order = order[len(order)::-1]\n",
    "rules = data[1]\n",
    "n = int(data[2])\n",
    "k=0\n",
    "result=''\n",
    "for symbol in order:\n",
    "    if symbol in rules:\n",
    "        k = k+1\n",
    "        result=result+symbol\n",
    "    else:\n",
    "        k = 0\n",
    "        result=''\n",
    "    if k == n:\n",
    "        for r in rules:\n",
    "            if r in result:\n",
    "                pass\n",
    "            else:\n",
    "                k = 0\n",
    "                result='' \n",
    "                break\n",
    "        break            \n",
    "print(result[len(result)::-1])"
   ]
  }
 ],
 "metadata": {
  "kernelspec": {
   "display_name": "Python 3",
   "language": "python",
   "name": "python3"
  },
  "language_info": {
   "codemirror_mode": {
    "name": "ipython",
    "version": 3
   },
   "file_extension": ".py",
   "mimetype": "text/x-python",
   "name": "python",
   "nbconvert_exporter": "python",
   "pygments_lexer": "ipython3",
   "version": "3.11.4"
  }
 },
 "nbformat": 4,
 "nbformat_minor": 2
}
