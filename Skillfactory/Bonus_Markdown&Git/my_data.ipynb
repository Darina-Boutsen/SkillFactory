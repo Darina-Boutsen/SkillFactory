{
 "cells": [
  {
   "cell_type": "markdown",
   "metadata": {},
   "source": [
    "Начальная структура проекта будет следующей (в дальнейшем она немного изменится):\n",
    "\n",
    "DataCleaningProject\n",
    "-    ├─data\n",
    "-\t    └─sber_data.csv\n",
    "-    │\n",
    "-    └─images\n",
    "-         └─boxplot.png\n",
    "-         └─data_cleaning.png\n",
    "-         └─example_outliers.png\n",
    "-\t      └─method_sigm.png\n",
    "-    │\n",
    "-    └─outliers_lib\n",
    "-         └─find_outliers.py\n",
    "-         └─README.md\n",
    "-    data_cleaning.ipynb"
   ]
  },
  {
   "cell_type": "markdown",
   "metadata": {},
   "source": [
    "Где:\n",
    "\n",
    "- data — папка с исходными данными (у нас это данные о квартирах в Москве);\n",
    "- images — папка с изображениями, необходимыми для проекта;\n",
    "- outliers_lib — папка со вспомогательными модулями для поиска выбросов (find_outliers.py) и описание этих модулей (файл README.md);\n",
    "- data_cleaning_example.ipynb — Jupyter-ноутбук, содержащий основной код проекта, в котором демонстрируются методы и подходы решения задач очистки данных."
   ]
  },
  {
   "cell_type": "markdown",
   "metadata": {},
   "source": [
    "Markdown — простой язык разметки.\n",
    "требуется сделать слово «Markdown» полужирным (Markdown).\n",
    "(начало полужирного текста) Markdown (окончание полужирного текста) — простой язык разметки.\n",
    "\n",
    "<strong> Markdown </strong> — простой язык разметки."
   ]
  },
  {
   "cell_type": "markdown",
   "metadata": {},
   "source": [
    "Полный список HTML тегов:\n",
    "https://html5book.ru/html-tags/"
   ]
  },
  {
   "cell_type": "markdown",
   "metadata": {},
   "source": [
    "Мы рассмотрели только основные математические операции в Markdown, на самом деле их гораздо больше: суммы, производные, интегралы и т. д. Однако изучать и запоминать их всех вовсе не обязательно. Всегда можно найти, как записать то или иное математическое соотношение, в документации по LaTeX.\n",
    "https://en.wikibooks.org/wiki/LaTeX/Mathematics"
   ]
  }
 ],
 "metadata": {
  "kernelspec": {
   "display_name": "Python 3",
   "language": "python",
   "name": "python3"
  },
  "language_info": {
   "codemirror_mode": {
    "name": "ipython",
    "version": 3
   },
   "file_extension": ".py",
   "mimetype": "text/x-python",
   "name": "python",
   "nbconvert_exporter": "python",
   "pygments_lexer": "ipython3",
   "version": "3.11.4"
  }
 },
 "nbformat": 4,
 "nbformat_minor": 2
}
