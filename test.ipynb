{
 "cells": [
  {
   "cell_type": "code",
   "execution_count": 8,
   "metadata": {},
   "outputs": [
    {
     "name": "stdout",
     "output_type": "stream",
     "text": [
      "30\n"
     ]
    }
   ],
   "source": [
    "def sum_func(num):\n",
    "    a, b = num.split(' ')\n",
    "    return int(a)+int(b)\n",
    "\n",
    "import pandas as pd\n",
    "df = \n",
    "df = df.apply(lambda x: sum_func(x))"
   ]
  },
  {
   "cell_type": "code",
   "execution_count": 12,
   "metadata": {},
   "outputs": [
    {
     "name": "stdout",
     "output_type": "stream",
     "text": [
      "4\n"
     ]
    }
   ],
   "source": [
    "num = input('a b')\n",
    "a, b = num.split(' ')\n",
    "result = int(a)+int(b)\n",
    "print(result)"
   ]
  },
  {
   "cell_type": "code",
   "execution_count": 13,
   "metadata": {},
   "outputs": [
    {
     "name": "stdout",
     "output_type": "stream",
     "text": [
      "2\n"
     ]
    }
   ],
   "source": [
    "# зачли\n",
    "num = input().split(' ')\n",
    "result = int(num[0])+int(num[1])\n",
    "print(result)"
   ]
  },
  {
   "cell_type": "code",
   "execution_count": null,
   "metadata": {},
   "outputs": [],
   "source": [
    "# прочитать из файла и вывести ответ в виде файла\n",
    "def main():\n",
    "    with open('input.txt') as f:\n",
    "        nums = f.read().split()\n",
    "        \n",
    "    a, b = map(int, nums)\n",
    "    result = a+b\n",
    "    \n",
    "    with open('output.txt', 'w') as f:\n",
    "        f.write(str(result))\n",
    "        \n",
    "if __name__ == '__main__':\n",
    "    main()"
   ]
  },
  {
   "cell_type": "code",
   "execution_count": null,
   "metadata": {},
   "outputs": [],
   "source": [
    "# \n",
    "import sys\n",
    "j = sys.stdin.readline().strip()\n",
    "s = sys.stdin.readline().strip()\n",
    " \n",
    "result = 0\n",
    "for ch in s:\n",
    "    if ch in j:\n",
    "        result += 1\n",
    "        \n",
    "print(result)"
   ]
  },
  {
   "cell_type": "code",
   "execution_count": 31,
   "metadata": {},
   "outputs": [
    {
     "name": "stdout",
     "output_type": "stream",
     "text": [
      "3\n"
     ]
    }
   ],
   "source": [
    "with open('input.txt') as f:\n",
    "    n = int(str(f.read().split()[0])[1])\n",
    "    print(n)"
   ]
  },
  {
   "cell_type": "code",
   "execution_count": 65,
   "metadata": {},
   "outputs": [],
   "source": [
    "# прочитать из файла и вывести ответ в виде файла\n",
    "\n",
    "def main():\n",
    "    with open('input.txt') as f:\n",
    "        fire_list = f.read().split()\n",
    "    \n",
    "    N, K, t = map(int, fire_list[0])\n",
    "    x = fire_list[t]\n",
    "    temp = list()\n",
    "    for i in range(1, N+1):\n",
    "        if fire_list[i] >= x:\n",
    "            temp.append(int(fire_list[i]))\n",
    "    result = max(temp[0:K]) - min(temp[0:K])\n",
    "    \n",
    "    with open('output.txt', 'w') as f:\n",
    "        f.write(str(result))\n",
    "        \n",
    "if __name__ == '__main__':\n",
    "    main()"
   ]
  },
  {
   "cell_type": "code",
   "execution_count": 39,
   "metadata": {},
   "outputs": [
    {
     "data": {
      "text/plain": [
       "[1]"
      ]
     },
     "execution_count": 39,
     "metadata": {},
     "output_type": "execute_result"
    }
   ],
   "source": [
    "result_list = []\n",
    "result_list.append(1)\n",
    "result_list"
   ]
  }
 ],
 "metadata": {
  "kernelspec": {
   "display_name": "Python 3",
   "language": "python",
   "name": "python3"
  },
  "language_info": {
   "codemirror_mode": {
    "name": "ipython",
    "version": 3
   },
   "file_extension": ".py",
   "mimetype": "text/x-python",
   "name": "python",
   "nbconvert_exporter": "python",
   "pygments_lexer": "ipython3",
   "version": "3.11.4"
  }
 },
 "nbformat": 4,
 "nbformat_minor": 2
}
